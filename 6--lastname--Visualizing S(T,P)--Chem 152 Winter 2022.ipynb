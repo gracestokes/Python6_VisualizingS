{
 "cells": [
  {
   "cell_type": "markdown",
   "metadata": {
    "nbgrader": {
     "grade": false,
     "grade_id": "cell-e738c8668287b02a",
     "locked": true,
     "schema_version": 3,
     "solution": false,
     "task": false
    }
   },
   "source": [
    "# Visualizing S(T,P) for water as a gas, liquid or solid\n",
    "Computational Guided Inquiry for Physical Chemistry Written by Dr. Steven Neshyba (University of Puget Sound)\n",
    "\n",
    "Adapted for Chem 152 at Santa Clara University by Dr. Grace Stokes\n",
    "\n",
    "## Introduction\n",
    "Today, our goal is to construct 3-D plots of $S(T,P)$ for water in its gas, liquid, and solid forms. We'll do that by integrating the differential equation of state for the entropy, \n",
    "\n",
    "$$\n",
    "dS = \\frac {C_P} T dT -V \\beta dP \\ \\ \\ \\ (1)\n",
    "$$\n",
    "\n",
    "Since Eq. (1) could also be written $dS = \\big (\\partial S/ \\partial T \\big )_P dT + \\big (\\partial S/ \\partial P \\big )_T dP$, we'll use the following interchangeably:\n",
    "\n",
    "$$\n",
    "\\big (\\partial S/ \\partial T \\big )_P = \\frac {C_{P}}T \\ \\ \\ \\ (2)\n",
    "$$\n",
    "\n",
    "$$\n",
    "\\big (\\partial S/ \\partial P \\big )_T = -V \\beta \\ \\ \\ \\ (3)\n",
    "$$\n",
    "\n",
    "Equation (1) would apply to any pure substance, e.g., for liquid water we'd use $\\frac {C_{P,liq}}T$ for the first term, and $V_{liq}$ and $\\beta_{liq}$, and so on. For precise work, we'd want to specify these quantities as temperature- and pressure-dependent quantities. However, for our present purposes, a few assumptions will simplify matters a lot, and still produce reasonable results:\n",
    "\n",
    "1. We'll assume $C_P=constant$ for each phase. \n",
    "2. For water *vapor*, if we assume ideal gas behavior, it turns out that \n",
    "\n",
    "$$\n",
    "V \\beta \\approx nR/P \\ \\ \\ \\ (4)\n",
    "$$\n",
    "\n",
    "3. For *liquid* and *solid* water, we'll say \n",
    "\n",
    "$$\n",
    "V \\beta \\approx constant \\ \\ \\ \\ (5)\n",
    "$$\n",
    "\n",
    "All these quantities, as written, are on a per-mole basis, according to the constants we've set up above.\n",
    "\n",
    "And how do we carry out the integration of Eq. (1)? We *could* do it analytically, but it's a lot easier to do so numerically, once we have numerical versions of $\\big (\\partial S/ \\partial T \\big )_P$ and $\\big (\\partial S/ \\partial P \\big )_T$. The Python function is called PL.Integrator and Dr. Stokes has not figured out how to use it with Google Colab so we are doing today's experiment in the ChemCompute platform!\n",
    "\n",
    "One last note: integrating Eq. (1) will tell us the shape of each surface ($S_{gas}(T,P)$, $S_{liq}(T,P)$, and $S_{sol}(T,P)$), but it won't tell us how they're related to one another. To accomplish that, PL.Integrator also has built in the ability to offset each surface by the standard-state entropy appropriate to the each phase (see values at https://webbook.nist.gov/chemistry/name-ser/). \n",
    "\n",
    "\n",
    "## Learning Goals\n",
    "1. Explain what controls the shape of $\\big (\\partial S/ \\partial T \\big )_P$, $\\big (\\partial S/ \\partial P \\big )_T$, and $S$ in $T,P$ state space, and how these shapes differ according to phase. \n",
    "1. Use a 2-d integrator to construct a numerical representation of a state function.\n",
    "1. Explain trends in $\\Delta S_{vap}$, $\\Delta S_{fus}$, and $\\Delta S_{sub}$ with increasing temperature and pressure.\n",
    "\n",
    "## Part 1. Import Libraries"
   ]
  },
  {
   "cell_type": "code",
   "execution_count": null,
   "metadata": {},
   "outputs": [],
   "source": [
    "pip install pint"
   ]
  },
  {
   "cell_type": "code",
   "execution_count": null,
   "metadata": {
    "nbgrader": {
     "grade": false,
     "grade_id": "cell-8e8c2cd153b2e3dc",
     "locked": true,
     "schema_version": 3,
     "solution": false,
     "task": false
    }
   },
   "outputs": [],
   "source": [
    "# Import resources - execute this cell two times (hit SHIFT-ENTER) because we want interactive graphics\n",
    "import pint; from pint import UnitRegistry; AssignQuantity = UnitRegistry().Quantity\n",
    "import numpy as np\n",
    "import matplotlib.pyplot as plt\n",
    "import PchemLibrary as PL\n",
    "from mpl_toolkits.mplot3d import axes3d\n",
    "import sympy as sp\n",
    "%matplotlib notebook"
   ]
  },
  {
   "cell_type": "markdown",
   "metadata": {
    "nbgrader": {
     "grade": false,
     "grade_id": "cell-a518b1d966502a55",
     "locked": true,
     "schema_version": 3,
     "solution": false,
     "task": false
    }
   },
   "source": [
    "## Part 2.  Define thermochemical constants pertaining to water\n",
    "\n",
    "There are two places you need to fill in values:\n",
    "1) You ned to enter values for the volumetric thermal expansion coefficient for liquid water (beta_liq) and solid water (beta_sol), which are found in Table 3.1 in Engel and Reid. They are currently listed as 0.00e-4. Don't change the exponential, just the decimal value.\n",
    "\n",
    "2) You will also need to enter the standard state entropy values of gaseous water (SS_gas) and liquid water (SS_liq) which are found at https://webbook.nist.gov/chemistry/name-ser/.  Note that liquids are considered a \"condensed phase.\" I provide SS_sol below. No need to change the units or anything else about the code."
   ]
  },
  {
   "cell_type": "code",
   "execution_count": null,
   "metadata": {
    "nbgrader": {
     "grade": false,
     "grade_id": "cell-cd28037657cabda3",
     "locked": true,
     "schema_version": 3,
     "solution": false,
     "task": false
    }
   },
   "outputs": [],
   "source": [
    "# Lay out the temperature-pressure state space\n",
    "Tgrid, Pgrid_bar = PL.Statespace([200,400,100],[1,10,101])\n",
    "Pgrid = AssignQuantity(Pgrid_bar,'bar').to('pascal')\n",
    "Tgrid = AssignQuantity(Tgrid,'K')\n",
    "\n",
    "# The code below defines some constants\n",
    "# Gas constant in SI units\n",
    "R = AssignQuantity(8.314,'J /mol/K')\n",
    "# Standard state conditions, in SI units\n",
    "T0 = AssignQuantity(298,'K')\n",
    "P0 = AssignQuantity(1e5,'pascal')\n",
    "\n",
    "# Some SI units related to entropy\n",
    "EUnits = 'J/K/mol'\n",
    "dSdTUnits = 'J / kelvin^2 /mole'\n",
    "dSdPUnits = 'meter ** 3 / kelvin / mole'\n",
    "\n",
    "# Molar mass of water is 18 g/mol but we must convert it to SI units (kg/mol)\n",
    "M = AssignQuantity(18,'g/mol')\n",
    "M.ito('kg/mol')\n",
    "print(M)\n",
    "\n",
    "# Parameters for gaseous water\n",
    "CP_gas = AssignQuantity(33.6,EUnits)\n",
    "SS_gas = [T0,P0,AssignQuantity(000.000,EUnits)] # Specifying the standard state entropy\n",
    "\n",
    "# Parameters for liquid water\n",
    "Vgrid_liq = AssignQuantity(0.018,'m^3 /mol')*np.ones(np.shape(Pgrid)) # Molar volume, as a state-space grid\n",
    "beta_liq = AssignQuantity(0.00e-4,'1/K') # Thermal expansivity of liquid water\n",
    "CP_liq = AssignQuantity(75.4,EUnits) # Heat capacity\n",
    "SS_liq = [T0,P0,AssignQuantity(00.00,EUnits)]\n",
    "print('CP_liq =', CP_liq)\n",
    "\n",
    "# Parameters for ice water\n",
    "Vgrid_sol = 1.1*Vgrid_liq # 10% of icebergs are above the water\n",
    "beta_sol =  AssignQuantity(0.00e-4,'1/K') # Thermal expansivity of ice\n",
    "CP_sol = AssignQuantity(38,EUnits)\n",
    "SS_sol = [T0,P0,AssignQuantity(46.5,EUnits)]\n",
    "print('CP_sol =', CP_sol)"
   ]
  },
  {
   "cell_type": "markdown",
   "metadata": {
    "nbgrader": {
     "grade": false,
     "grade_id": "cell-7982bfd3a1a12a8f",
     "locked": true,
     "schema_version": 3,
     "solution": false,
     "task": false
    }
   },
   "source": [
    "## Pause for analysis #1\n",
    "Compare the thermal expansivity of liquid water compared to the thermal expansivity of ice (solid). Which one is larger? Does it make sense based on the definition of molar expansivity?\n",
    "\n",
    "Answer:"
   ]
  },
  {
   "cell_type": "markdown",
   "metadata": {
    "nbgrader": {
     "grade": false,
     "grade_id": "cell-35d28110f5319ccb",
     "locked": true,
     "schema_version": 3,
     "solution": false,
     "task": false
    }
   },
   "source": [
    "## Part 3. Let's have a look at the $\\big (\\partial S/ \\partial T \\big )_P$ for the gas\n",
    "Below, we calculate and display $\\big (\\partial S/ \\partial T \\big )_P = \\frac {C_{P,gas}}T$, using gray to represent a foggy morning. All you need to do is hit \"SHIFT-ENTER\" see if the shape of the graph matches what we expected."
   ]
  },
  {
   "cell_type": "code",
   "execution_count": null,
   "metadata": {
    "nbgrader": {
     "grade": false,
     "grade_id": "cell-a978fba9410c720a",
     "locked": true,
     "schema_version": 3,
     "solution": false,
     "task": false
    },
    "scrolled": false
   },
   "outputs": [],
   "source": [
    "# dSdT for the gas\n",
    "dSdT_gas = CP_gas/Tgrid\n",
    "\n",
    "# The rest is graphics\n",
    "xlabel = \"T \"+str(Tgrid.units)\n",
    "ylabel = \"P \"+str(Pgrid.units)\n",
    "ax = PL.plot_surface(Tgrid, Pgrid, dSdT_gas, color='gray')\n",
    "ax.set_xlabel(xlabel)\n",
    "ax.set_ylabel(ylabel)\n",
    "ax.set_zlabel(str(dSdT_gas.units))\n",
    "ax.set_title('dSdT (gas)')"
   ]
  },
  {
   "cell_type": "markdown",
   "metadata": {
    "nbgrader": {
     "grade": false,
     "grade_id": "cell-d9adbf992465de14",
     "locked": true,
     "schema_version": 3,
     "solution": false,
     "task": false
    }
   },
   "source": [
    "## Part 4. Now you must plot $\\big (\\partial S/ \\partial T \\big )_P$ for the liquid\n",
    "In the first line of the cell below, calculate $\\big (\\partial S/ \\partial T \\big )_P = \\frac {C_{P,liq}} T$. Then plot $\\big (\\partial S/ \\partial T \\big )_P$ for liquid *and* gas on the same graph. To help keep things straight, make the liquid blue-colored (like the ocean), and keep the gas gray-colored."
   ]
  },
  {
   "cell_type": "code",
   "execution_count": null,
   "metadata": {
    "nbgrader": {
     "grade": true,
     "grade_id": "cell-d3c6cf0a99c9e5b6",
     "locked": false,
     "points": 2,
     "schema_version": 3,
     "solution": true,
     "task": false
    }
   },
   "outputs": [],
   "source": [
    "# define dSdT for the liquid\n",
    "\n",
    "\n",
    "\n",
    "# Graphics\n",
    "# This allows us to make vertical scales the same\n",
    "zmax1 = np.max(np.max(dSdT_liq)); print(zmax1)\n",
    "zmax2 = np.max(np.max(dSdT_gas)); print(zmax2)\n",
    "zmax = np.max([zmax1.magnitude,zmax2.magnitude])\n",
    "\n",
    "xlabel = \"T \"+str(Tgrid.units)\n",
    "ylabel = \"P \"+str(Pgrid.units)\n",
    "\n",
    "\n",
    "# Make a legend in the title\n",
    "ax.set_title('dSdT (liq=blue, gas=gray)')\n",
    "\n",
    "#Overlay the two plots using the code below\n",
    "ax = PL.plot_surface(Tgrid, Pgrid, dSdT_liq, color='blue')\n",
    "ax = PL.plot_surface(Tgrid, Pgrid, dSdT_gas, color='gray', overlay=True, ax=ax)\n",
    "ax.set_xlabel(xlabel)\n",
    "ax.set_ylabel(ylabel)\n",
    "ax.set_zlabel(str(dSdT_liq.units))\n",
    "ax.set_zlim([0,zmax])\n"
   ]
  },
  {
   "cell_type": "markdown",
   "metadata": {
    "nbgrader": {
     "grade": false,
     "grade_id": "cell-e6656863fde04724",
     "locked": true,
     "schema_version": 3,
     "solution": false,
     "task": false
    }
   },
   "source": [
    "## Pause for analysis #2\n",
    "The slope of the blue plot is much steeper than the slope of the grey plot. Explain the reason for this difference. Which is more temperature-dependent at constant pressure -- the entropy for liquids or gases? Why? \n",
    "\n",
    "Answer:"
   ]
  },
  {
   "cell_type": "markdown",
   "metadata": {
    "nbgrader": {
     "grade": false,
     "grade_id": "cell-72d3604801303f37",
     "locked": true,
     "schema_version": 3,
     "solution": false,
     "task": false
    }
   },
   "source": [
    "## Part 5. Overlay $\\big (\\partial S/ \\partial T \\big )_P$ surface for the solid\n",
    "In the cell below, calculate $\\big (\\partial S/ \\partial T \\big )_P = \\frac {C_{P,sol}} T$. Then plot $\\big (\\partial S/ \\partial T \\big )_P$ for solid, liquid and gas on the same graph. To help keep things straight, make the solid black-colored, and keep the gas and liquid as before."
   ]
  },
  {
   "cell_type": "code",
   "execution_count": null,
   "metadata": {
    "nbgrader": {
     "grade": true,
     "grade_id": "cell-a0aaef3b3e85c69b",
     "locked": false,
     "points": 2,
     "schema_version": 3,
     "solution": true,
     "task": false
    }
   },
   "outputs": [],
   "source": [
    "# dSdT for the solid\n",
    "\n",
    "\n",
    "# This allows us to make vertical scales the same\n",
    "zmax1 = np.max(np.max(dSdT_sol)); print(zmax1)\n",
    "zmax2 = np.max(np.max(dSdT_liq)); print(zmax2)\n",
    "zmax3 = np.max(np.max(dSdT_gas)); print(zmax3)\n",
    "zmax = np.max([zmax1.magnitude,zmax2.magnitude,zmax3.magnitude])\n",
    "\n",
    "# Graphics\n",
    "xlabel = \"T \"+str(Tgrid.units)\n",
    "ylabel = \"P \"+str(Pgrid.units)\n",
    "ax = PL.plot_surface(Tgrid, Pgrid, dSdT_sol, color='black')\n",
    "ax.set_zlim([0,zmax])\n",
    "ax = PL.plot_surface(Tgrid, Pgrid, dSdT_liq, color='blue', overlay=True, ax=ax)\n",
    "ax = PL.plot_surface(Tgrid, Pgrid, dSdT_gas, color='gray', overlay=True, ax=ax)\n",
    "ax.set_xlabel(xlabel)\n",
    "ax.set_ylabel(ylabel)\n",
    "ax.set_zlabel(str(dSdT_liq.units))\n",
    "\n",
    "# Make a legend in the title\n",
    "ax.set_title('dSdT (sol=black, liq=blue, gas=gray)')\n"
   ]
  },
  {
   "cell_type": "markdown",
   "metadata": {
    "nbgrader": {
     "grade": false,
     "grade_id": "cell-776abbebb408ad0e",
     "locked": true,
     "schema_version": 3,
     "solution": false,
     "task": false
    }
   },
   "source": [
    "## Pause for analysis #3\n",
    "\n",
    "Based on differences in their heat capacities, compare the slopes of the solid, liquids and gases.\n",
    "\n",
    "Answer:"
   ]
  },
  {
   "cell_type": "markdown",
   "metadata": {
    "nbgrader": {
     "grade": false,
     "grade_id": "cell-bea50aed374208df",
     "locked": true,
     "schema_version": 3,
     "solution": false,
     "task": false
    }
   },
   "source": [
    "## Part 7. Now plot $\\big (\\partial S/ \\partial P \\big )_T$ and compare it to $\\big (\\partial S/ \\partial T \\big )_P$\n",
    "\n",
    "In the cell below, calculate and plot $\\big (\\partial S/ \\partial P \\big )_T$ for all three phases of water (see the Introduction for equations). Some cosmetic considerations you might want to think about:\n",
    "\n",
    "- It'll be best if you use the same coloring convention as before. \n",
    "- You might find it convenient to multiply your $\\big (\\partial S/ \\partial P \\big )_T$ values by some big number \"on the fly\", as in\n",
    "\n",
    "    ax.plot_surface(Tgrid, Pgrid, dSdP_gas*1e5, color='gray')\n",
    "    \n",
    "    "
   ]
  },
  {
   "cell_type": "code",
   "execution_count": null,
   "metadata": {
    "nbgrader": {
     "grade": true,
     "grade_id": "cell-074f1d2df386f335",
     "locked": false,
     "points": 4,
     "schema_version": 3,
     "solution": true,
     "task": false
    }
   },
   "outputs": [],
   "source": [
    "# dSdP\n",
    "\n",
    "\n",
    "# Graphics\n",
    "\n",
    "\n",
    "\n",
    "# Display a title with legend\n"
   ]
  },
  {
   "cell_type": "markdown",
   "metadata": {
    "nbgrader": {
     "grade": false,
     "grade_id": "cell-b1b9af281b05689c",
     "locked": true,
     "schema_version": 3,
     "solution": false,
     "task": false
    }
   },
   "source": [
    "## Pause for analysis #4\n",
    "You've probably noticed that $\\big (\\partial S/ \\partial P \\big )_T$ for the liquid and solid are almost identical constant compared to the variability of $\\big (\\partial S/ \\partial P \\big )_T$ of the gas. What do you suppose accounts for the difference?\n",
    "\n",
    "ANSWER:"
   ]
  },
  {
   "cell_type": "markdown",
   "metadata": {
    "nbgrader": {
     "grade": false,
     "grade_id": "cell-67efe7781d9c37ba",
     "locked": true,
     "schema_version": 3,
     "solution": false,
     "task": false
    }
   },
   "source": [
    "# Grading:  \n",
    "\n",
    "As before, I will be looking for evidence of your mastery of the computational methods embedded in this exercise in google colaboratory: whether the notebook is complete and your results accurate, in addition to the answers to the Pause for Analysis questions."
   ]
  },
  {
   "cell_type": "code",
   "execution_count": null,
   "metadata": {},
   "outputs": [],
   "source": []
  }
 ],
 "metadata": {
  "celltoolbar": "Create Assignment",
  "kernelspec": {
   "display_name": "Python 3 (ipykernel)",
   "language": "python",
   "name": "python3"
  },
  "language_info": {
   "codemirror_mode": {
    "name": "ipython",
    "version": 3
   },
   "file_extension": ".py",
   "mimetype": "text/x-python",
   "name": "python",
   "nbconvert_exporter": "python",
   "pygments_lexer": "ipython3",
   "version": "3.9.7"
  }
 },
 "nbformat": 4,
 "nbformat_minor": 2
}
